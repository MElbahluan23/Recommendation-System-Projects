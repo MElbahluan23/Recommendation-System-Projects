{
 "cells": [
  {
   "cell_type": "markdown",
   "id": "6210b2ba",
   "metadata": {},
   "source": [
    "##  Dataset Info\n",
    "describes 5-star rating and free-text tagging activity from MovieLens, a movie recommendation service. \n",
    "\n",
    "It contains 100836 ratings and 3683 tag applications across 9742 movies.\n",
    "\n",
    "These data were created by 610 users between March 29, 1996 and September 24, 2018. This dataset was generated on September 26, 2018."
   ]
  },
  {
   "cell_type": "code",
   "execution_count": 1,
   "id": "e96aef64",
   "metadata": {},
   "outputs": [],
   "source": [
    "import pandas as pd\n",
    "import numpy as np\n",
    "import os\n",
    "\n",
    "pd.set_option('display.max_columns', None)\n",
    "pd.set_option('display.max_rows', None)"
   ]
  },
  {
   "cell_type": "markdown",
   "id": "b6b065f7",
   "metadata": {},
   "source": [
    "# Get The Data"
   ]
  },
  {
   "cell_type": "code",
   "execution_count": 2,
   "id": "3914aff0",
   "metadata": {},
   "outputs": [],
   "source": [
    "DATA_PATH=\"./Datasets/\"\n",
    "\n",
    "movies_df = pd.read_csv(os.path.join(DATA_PATH,\"movies.csv\"),usecols=['movieId','title'],dtype={'movieId': 'int32', 'title': 'str'})\n",
    "rating_df=pd.read_csv(os.path.join(DATA_PATH,\"ratings.csv\"),usecols=['userId', 'movieId', 'rating'],\n",
    "    dtype={'userId': 'int32', 'movieId': 'int32', 'rating': 'float32'})"
   ]
  },
  {
   "cell_type": "code",
   "execution_count": 3,
   "id": "59204518",
   "metadata": {},
   "outputs": [
    {
     "data": {
      "text/html": [
       "<div>\n",
       "<style scoped>\n",
       "    .dataframe tbody tr th:only-of-type {\n",
       "        vertical-align: middle;\n",
       "    }\n",
       "\n",
       "    .dataframe tbody tr th {\n",
       "        vertical-align: top;\n",
       "    }\n",
       "\n",
       "    .dataframe thead th {\n",
       "        text-align: right;\n",
       "    }\n",
       "</style>\n",
       "<table border=\"1\" class=\"dataframe\">\n",
       "  <thead>\n",
       "    <tr style=\"text-align: right;\">\n",
       "      <th></th>\n",
       "      <th>movieId</th>\n",
       "      <th>title</th>\n",
       "    </tr>\n",
       "  </thead>\n",
       "  <tbody>\n",
       "    <tr>\n",
       "      <th>0</th>\n",
       "      <td>1</td>\n",
       "      <td>Toy Story (1995)</td>\n",
       "    </tr>\n",
       "    <tr>\n",
       "      <th>1</th>\n",
       "      <td>2</td>\n",
       "      <td>Jumanji (1995)</td>\n",
       "    </tr>\n",
       "    <tr>\n",
       "      <th>2</th>\n",
       "      <td>3</td>\n",
       "      <td>Grumpier Old Men (1995)</td>\n",
       "    </tr>\n",
       "    <tr>\n",
       "      <th>3</th>\n",
       "      <td>4</td>\n",
       "      <td>Waiting to Exhale (1995)</td>\n",
       "    </tr>\n",
       "    <tr>\n",
       "      <th>4</th>\n",
       "      <td>5</td>\n",
       "      <td>Father of the Bride Part II (1995)</td>\n",
       "    </tr>\n",
       "  </tbody>\n",
       "</table>\n",
       "</div>"
      ],
      "text/plain": [
       "   movieId                               title\n",
       "0        1                    Toy Story (1995)\n",
       "1        2                      Jumanji (1995)\n",
       "2        3             Grumpier Old Men (1995)\n",
       "3        4            Waiting to Exhale (1995)\n",
       "4        5  Father of the Bride Part II (1995)"
      ]
     },
     "execution_count": 3,
     "metadata": {},
     "output_type": "execute_result"
    }
   ],
   "source": [
    "movies_df.head()"
   ]
  },
  {
   "cell_type": "code",
   "execution_count": 4,
   "id": "f464279c",
   "metadata": {},
   "outputs": [
    {
     "data": {
      "text/html": [
       "<div>\n",
       "<style scoped>\n",
       "    .dataframe tbody tr th:only-of-type {\n",
       "        vertical-align: middle;\n",
       "    }\n",
       "\n",
       "    .dataframe tbody tr th {\n",
       "        vertical-align: top;\n",
       "    }\n",
       "\n",
       "    .dataframe thead th {\n",
       "        text-align: right;\n",
       "    }\n",
       "</style>\n",
       "<table border=\"1\" class=\"dataframe\">\n",
       "  <thead>\n",
       "    <tr style=\"text-align: right;\">\n",
       "      <th></th>\n",
       "      <th>userId</th>\n",
       "      <th>movieId</th>\n",
       "      <th>rating</th>\n",
       "    </tr>\n",
       "  </thead>\n",
       "  <tbody>\n",
       "    <tr>\n",
       "      <th>0</th>\n",
       "      <td>1</td>\n",
       "      <td>1</td>\n",
       "      <td>4.0</td>\n",
       "    </tr>\n",
       "    <tr>\n",
       "      <th>1</th>\n",
       "      <td>1</td>\n",
       "      <td>3</td>\n",
       "      <td>4.0</td>\n",
       "    </tr>\n",
       "    <tr>\n",
       "      <th>2</th>\n",
       "      <td>1</td>\n",
       "      <td>6</td>\n",
       "      <td>4.0</td>\n",
       "    </tr>\n",
       "    <tr>\n",
       "      <th>3</th>\n",
       "      <td>1</td>\n",
       "      <td>47</td>\n",
       "      <td>5.0</td>\n",
       "    </tr>\n",
       "    <tr>\n",
       "      <th>4</th>\n",
       "      <td>1</td>\n",
       "      <td>50</td>\n",
       "      <td>5.0</td>\n",
       "    </tr>\n",
       "  </tbody>\n",
       "</table>\n",
       "</div>"
      ],
      "text/plain": [
       "   userId  movieId  rating\n",
       "0       1        1     4.0\n",
       "1       1        3     4.0\n",
       "2       1        6     4.0\n",
       "3       1       47     5.0\n",
       "4       1       50     5.0"
      ]
     },
     "execution_count": 4,
     "metadata": {},
     "output_type": "execute_result"
    }
   ],
   "source": [
    "rating_df.head()"
   ]
  },
  {
   "cell_type": "code",
   "execution_count": 5,
   "id": "cfeb2412",
   "metadata": {},
   "outputs": [
    {
     "data": {
      "text/html": [
       "<div>\n",
       "<style scoped>\n",
       "    .dataframe tbody tr th:only-of-type {\n",
       "        vertical-align: middle;\n",
       "    }\n",
       "\n",
       "    .dataframe tbody tr th {\n",
       "        vertical-align: top;\n",
       "    }\n",
       "\n",
       "    .dataframe thead th {\n",
       "        text-align: right;\n",
       "    }\n",
       "</style>\n",
       "<table border=\"1\" class=\"dataframe\">\n",
       "  <thead>\n",
       "    <tr style=\"text-align: right;\">\n",
       "      <th></th>\n",
       "      <th>userId</th>\n",
       "      <th>movieId</th>\n",
       "      <th>rating</th>\n",
       "      <th>title</th>\n",
       "    </tr>\n",
       "  </thead>\n",
       "  <tbody>\n",
       "    <tr>\n",
       "      <th>0</th>\n",
       "      <td>1</td>\n",
       "      <td>1</td>\n",
       "      <td>4.0</td>\n",
       "      <td>Toy Story (1995)</td>\n",
       "    </tr>\n",
       "    <tr>\n",
       "      <th>1</th>\n",
       "      <td>5</td>\n",
       "      <td>1</td>\n",
       "      <td>4.0</td>\n",
       "      <td>Toy Story (1995)</td>\n",
       "    </tr>\n",
       "    <tr>\n",
       "      <th>2</th>\n",
       "      <td>7</td>\n",
       "      <td>1</td>\n",
       "      <td>4.5</td>\n",
       "      <td>Toy Story (1995)</td>\n",
       "    </tr>\n",
       "    <tr>\n",
       "      <th>3</th>\n",
       "      <td>15</td>\n",
       "      <td>1</td>\n",
       "      <td>2.5</td>\n",
       "      <td>Toy Story (1995)</td>\n",
       "    </tr>\n",
       "    <tr>\n",
       "      <th>4</th>\n",
       "      <td>17</td>\n",
       "      <td>1</td>\n",
       "      <td>4.5</td>\n",
       "      <td>Toy Story (1995)</td>\n",
       "    </tr>\n",
       "  </tbody>\n",
       "</table>\n",
       "</div>"
      ],
      "text/plain": [
       "   userId  movieId  rating             title\n",
       "0       1        1     4.0  Toy Story (1995)\n",
       "1       5        1     4.0  Toy Story (1995)\n",
       "2       7        1     4.5  Toy Story (1995)\n",
       "3      15        1     2.5  Toy Story (1995)\n",
       "4      17        1     4.5  Toy Story (1995)"
      ]
     },
     "execution_count": 5,
     "metadata": {},
     "output_type": "execute_result"
    }
   ],
   "source": [
    "data=pd.merge(rating_df,movies_df,on='movieId')\n",
    "data.head()"
   ]
  },
  {
   "cell_type": "code",
   "execution_count": 6,
   "id": "6784d809",
   "metadata": {},
   "outputs": [
    {
     "name": "stdout",
     "output_type": "stream",
     "text": [
      "<class 'pandas.core.frame.DataFrame'>\n",
      "Int64Index: 100836 entries, 0 to 100835\n",
      "Data columns (total 4 columns):\n",
      " #   Column   Non-Null Count   Dtype  \n",
      "---  ------   --------------   -----  \n",
      " 0   userId   100836 non-null  int32  \n",
      " 1   movieId  100836 non-null  int32  \n",
      " 2   rating   100836 non-null  float32\n",
      " 3   title    100836 non-null  object \n",
      "dtypes: float32(1), int32(2), object(1)\n",
      "memory usage: 2.7+ MB\n"
     ]
    }
   ],
   "source": [
    "data.info()"
   ]
  },
  {
   "cell_type": "code",
   "execution_count": 7,
   "id": "4e02dd48",
   "metadata": {},
   "outputs": [],
   "source": [
    "data=data.dropna(axis = 0, subset = ['title'])"
   ]
  },
  {
   "cell_type": "code",
   "execution_count": 8,
   "id": "38bd16b4",
   "metadata": {},
   "outputs": [],
   "source": [
    "movie_ratingCount=pd.DataFrame(data.title.value_counts()).reset_index()\n",
    "movie_ratingCount.rename(columns={'index':'title','title':'totalRatingCount'},inplace=True)"
   ]
  },
  {
   "cell_type": "code",
   "execution_count": 9,
   "id": "99e384c2",
   "metadata": {},
   "outputs": [
    {
     "data": {
      "text/html": [
       "<div>\n",
       "<style scoped>\n",
       "    .dataframe tbody tr th:only-of-type {\n",
       "        vertical-align: middle;\n",
       "    }\n",
       "\n",
       "    .dataframe tbody tr th {\n",
       "        vertical-align: top;\n",
       "    }\n",
       "\n",
       "    .dataframe thead th {\n",
       "        text-align: right;\n",
       "    }\n",
       "</style>\n",
       "<table border=\"1\" class=\"dataframe\">\n",
       "  <thead>\n",
       "    <tr style=\"text-align: right;\">\n",
       "      <th></th>\n",
       "      <th>userId</th>\n",
       "      <th>movieId</th>\n",
       "      <th>rating</th>\n",
       "      <th>title</th>\n",
       "      <th>totalRatingCount</th>\n",
       "    </tr>\n",
       "  </thead>\n",
       "  <tbody>\n",
       "    <tr>\n",
       "      <th>0</th>\n",
       "      <td>1</td>\n",
       "      <td>1</td>\n",
       "      <td>4.0</td>\n",
       "      <td>Toy Story (1995)</td>\n",
       "      <td>215</td>\n",
       "    </tr>\n",
       "    <tr>\n",
       "      <th>1</th>\n",
       "      <td>5</td>\n",
       "      <td>1</td>\n",
       "      <td>4.0</td>\n",
       "      <td>Toy Story (1995)</td>\n",
       "      <td>215</td>\n",
       "    </tr>\n",
       "    <tr>\n",
       "      <th>2</th>\n",
       "      <td>7</td>\n",
       "      <td>1</td>\n",
       "      <td>4.5</td>\n",
       "      <td>Toy Story (1995)</td>\n",
       "      <td>215</td>\n",
       "    </tr>\n",
       "    <tr>\n",
       "      <th>3</th>\n",
       "      <td>15</td>\n",
       "      <td>1</td>\n",
       "      <td>2.5</td>\n",
       "      <td>Toy Story (1995)</td>\n",
       "      <td>215</td>\n",
       "    </tr>\n",
       "    <tr>\n",
       "      <th>4</th>\n",
       "      <td>17</td>\n",
       "      <td>1</td>\n",
       "      <td>4.5</td>\n",
       "      <td>Toy Story (1995)</td>\n",
       "      <td>215</td>\n",
       "    </tr>\n",
       "  </tbody>\n",
       "</table>\n",
       "</div>"
      ],
      "text/plain": [
       "   userId  movieId  rating             title  totalRatingCount\n",
       "0       1        1     4.0  Toy Story (1995)               215\n",
       "1       5        1     4.0  Toy Story (1995)               215\n",
       "2       7        1     4.5  Toy Story (1995)               215\n",
       "3      15        1     2.5  Toy Story (1995)               215\n",
       "4      17        1     4.5  Toy Story (1995)               215"
      ]
     },
     "execution_count": 9,
     "metadata": {},
     "output_type": "execute_result"
    }
   ],
   "source": [
    "data_w_TotalRating=data.merge(movie_ratingCount,on='title')\n",
    "data_w_TotalRating.head()"
   ]
  },
  {
   "cell_type": "code",
   "execution_count": 10,
   "id": "c4be0d1d",
   "metadata": {},
   "outputs": [
    {
     "data": {
      "text/plain": [
       "count    100836.000000\n",
       "mean         58.758777\n",
       "std          61.965384\n",
       "min           1.000000\n",
       "25%          13.000000\n",
       "50%          39.000000\n",
       "75%          84.000000\n",
       "max         329.000000\n",
       "Name: totalRatingCount, dtype: float64"
      ]
     },
     "execution_count": 10,
     "metadata": {},
     "output_type": "execute_result"
    }
   ],
   "source": [
    "data_w_TotalRating['totalRatingCount'].describe().T"
   ]
  },
  {
   "cell_type": "code",
   "execution_count": 11,
   "id": "49fcf193",
   "metadata": {},
   "outputs": [],
   "source": [
    "import matplotlib.pyplot as plt\n",
    "import seaborn as sns\n",
    "sns.set_style('darkgrid')\n"
   ]
  },
  {
   "cell_type": "code",
   "execution_count": 12,
   "id": "8e8a566a",
   "metadata": {},
   "outputs": [
    {
     "data": {
      "image/png": "[encoded data removed]",
      "text/plain": [
       "<Figure size 1440x720 with 1 Axes>"
      ]
     },
     "metadata": {},
     "output_type": "display_data"
    }
   ],
   "source": [
    "#data_w_TotalRating['totalRatingCount'].hist(bins=20);\n",
    "plt.figure(figsize=(20,10))\n",
    "sns.histplot(data_w_TotalRating['totalRatingCount'])\n",
    "plt.axvline(38, 0, 1,c='r',ls='--')\n",
    "plt.show()"
   ]
  },
  {
   "cell_type": "code",
   "execution_count": 13,
   "id": "30e8c371",
   "metadata": {},
   "outputs": [],
   "source": [
    "popular_movies=data_w_TotalRating[data_w_TotalRating.totalRatingCount>=38]"
   ]
  },
  {
   "cell_type": "code",
   "execution_count": 14,
   "id": "887bf920",
   "metadata": {},
   "outputs": [
    {
     "data": {
      "text/plain": [
       "count    51560.000000\n",
       "mean       100.761792\n",
       "std         61.569359\n",
       "min         38.000000\n",
       "25%         54.000000\n",
       "50%         81.000000\n",
       "75%        129.000000\n",
       "max        329.000000\n",
       "Name: totalRatingCount, dtype: float64"
      ]
     },
     "execution_count": 14,
     "metadata": {},
     "output_type": "execute_result"
    }
   ],
   "source": [
    "popular_movies['totalRatingCount'].describe()"
   ]
  },
  {
   "cell_type": "markdown",
   "id": "21d3c074",
   "metadata": {},
   "source": [
    "## --------------------------------------------------------------------------------------------------------------------------------\n"
   ]
  },
  {
   "cell_type": "code",
   "execution_count": 15,
   "id": "9ba36d47",
   "metadata": {},
   "outputs": [],
   "source": [
    "from scipy.sparse import csc_matrix\n",
    "from sklearn.neighbors import NearestNeighbors"
   ]
  },
  {
   "cell_type": "markdown",
   "id": "99a96ccd",
   "metadata": {},
   "source": [
    "# Looking for similar  movies"
   ]
  },
  {
   "cell_type": "code",
   "execution_count": 16,
   "id": "8ccf060e",
   "metadata": {},
   "outputs": [],
   "source": [
    "featuesOfMovies=popular_movies.pivot_table(index='title',columns='userId',values='rating').fillna(0)"
   ]
  },
  {
   "cell_type": "code",
   "execution_count": 17,
   "id": "d85f0cb9",
   "metadata": {},
   "outputs": [],
   "source": [
    "featuesOfMovies_matrix=csc_matrix(featuesOfMovies.values)"
   ]
  },
  {
   "cell_type": "code",
   "execution_count": 18,
   "id": "70067917",
   "metadata": {},
   "outputs": [
    {
     "data": {
      "text/plain": [
       "NearestNeighbors(algorithm='brute', metric='cosine')"
      ]
     },
     "execution_count": 18,
     "metadata": {},
     "output_type": "execute_result"
    }
   ],
   "source": [
    "model_4_movies=NearestNeighbors(metric='cosine',algorithm='brute')\n",
    "model_4_movies.fit(featuesOfMovies_matrix)"
   ]
  },
  {
   "cell_type": "code",
   "execution_count": 19,
   "id": "f5cf1f74",
   "metadata": {},
   "outputs": [
    {
     "name": "stdout",
     "output_type": "stream",
     "text": [
      "Recommendation for who saw movies:  Taken (2008) \n",
      "\n",
      "Bourne Ultimatum, The (2007): similar to the movie with 46.02 %\n",
      "Casino Royale (2006): similar to the movie with 46.14 %\n",
      "Blood Diamond (2006): similar to the movie with 48.29 %\n",
      "Hangover, The (2009): similar to the movie with 48.84 %\n"
     ]
    }
   ],
   "source": [
    "# chooseing random movie to see the similarty\n",
    "random_index=np.random.choice(featuesOfMovies.shape[0])\n",
    "distance,indices=model_4_movies.kneighbors(featuesOfMovies.iloc[random_index,:].values.reshape(1,-1),n_neighbors=5)\n",
    "\n",
    "\n",
    "Dict=dict(zip(indices.flatten(),distance.flatten()))\n",
    "\n",
    "# Print similer movies\n",
    "print(\"Recommendation for who saw movies: \",featuesOfMovies.index[random_index],\"\\n\")\n",
    "for i,d in Dict.items():\n",
    "    if featuesOfMovies.index[random_index] == featuesOfMovies.index[i]:\n",
    "        pass\n",
    "    else:\n",
    "        print(\"{0}: similar to the movie with {1} %\".format(featuesOfMovies.index[i],round(d*100,2)))\n"
   ]
  },
  {
   "cell_type": "code",
   "execution_count": 20,
   "id": "671be0d3",
   "metadata": {},
   "outputs": [
    {
     "name": "stdout",
     "output_type": "stream",
     "text": [
      "Recommendation for who saw movies:  Taken (2008) \n",
      "\n",
      "Bourne Ultimatum, The (2007): similar to the movie with 46.02%\n",
      "Casino Royale (2006): similar to the movie with 46.14%\n",
      "Blood Diamond (2006): similar to the movie with 48.29%\n",
      "Hangover, The (2009): similar to the movie with 48.84%\n"
     ]
    }
   ],
   "source": [
    "print(\"Recommendation for who saw movies: \",featuesOfMovies.index[random_index],\"\\n\")\n",
    "for i,d in Dict.items():\n",
    "    if featuesOfMovies.index[random_index] == featuesOfMovies.index[i]:\n",
    "        pass\n",
    "    else:\n",
    "        print(\"{0}: similar to the movie with {1}%\".format(featuesOfMovies.index[i],round(d*100,2)))\n"
   ]
  },
  {
   "cell_type": "markdown",
   "id": "11d13ae4",
   "metadata": {},
   "source": [
    "## --------------------------------------------------------------------------------------------------------------------------------\n"
   ]
  },
  {
   "cell_type": "markdown",
   "id": "a4eafbf8",
   "metadata": {},
   "source": [
    "# Looking for users haveing similar  taste"
   ]
  },
  {
   "cell_type": "code",
   "execution_count": 21,
   "id": "950b0078",
   "metadata": {},
   "outputs": [
    {
     "data": {
      "text/plain": [
       "NearestNeighbors(algorithm='brute', metric='cosine')"
      ]
     },
     "execution_count": 21,
     "metadata": {},
     "output_type": "execute_result"
    }
   ],
   "source": [
    "featuesOfUsers=popular_movies.pivot_table(index='userId',columns='title',values='rating').fillna(0)\n",
    "featuesOfUsers_matrix=csc_matrix(featuesOfUsers.values)\n",
    "model_4_users=NearestNeighbors(metric='cosine',algorithm='brute')\n",
    "model_4_users.fit(featuesOfUsers_matrix)"
   ]
  },
  {
   "cell_type": "code",
   "execution_count": 22,
   "id": "3365d48b",
   "metadata": {},
   "outputs": [
    {
     "name": "stdout",
     "output_type": "stream",
     "text": [
      "User:  300 \n",
      "\n",
      "User 443 have similer test with 49.87%\n",
      "User 296 have similer test with 51.18%\n",
      "User 497 have similer test with 51.4%\n",
      "User 581 have similer test with 53.5%\n"
     ]
    }
   ],
   "source": [
    "# chooseing random movie to see the similarty\n",
    "random_index=np.random.choice(featuesOfUsers.shape[0])\n",
    "distance,indices=model_4_users.kneighbors(featuesOfUsers.iloc[random_index,:].values.reshape(1,-1),n_neighbors=5)\n",
    "\n",
    "\n",
    "Dict=dict(zip(indices.flatten(),distance.flatten()))\n",
    "\n",
    "# Print similer movies\n",
    "print(\"User: \",featuesOfUsers.index[random_index],\"\\n\")\n",
    "for i,d in Dict.items():\n",
    "    if featuesOfUsers.index[random_index] == featuesOfUsers.index[i]:\n",
    "        pass\n",
    "    else:\n",
    "        print(\"User {0} have similer test with {1}%\".format(featuesOfUsers.index[i],round(d*100,2)))\n"
   ]
  },
  {
   "cell_type": "code",
   "execution_count": null,
   "id": "99d97988",
   "metadata": {},
   "outputs": [],
   "source": []
  }
 ],
 "metadata": {
  "kernelspec": {
   "display_name": "Python 3",
   "language": "python",
   "name": "python3"
  },
  "language_info": {
   "codemirror_mode": {
    "name": "ipython",
    "version": 3
   },
   "file_extension": ".py",
   "mimetype": "text/x-python",
   "name": "python",
   "nbconvert_exporter": "python",
   "pygments_lexer": "ipython3",
   "version": "3.7.11"
  }
 },
 "nbformat": 4,
 "nbformat_minor": 5
}
